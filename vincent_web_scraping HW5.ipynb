{
  "nbformat": 4,
  "nbformat_minor": 0,
  "metadata": {
    "colab": {
      "name": "vincent_web_scraping.ipynb",
      "provenance": [],
      "collapsed_sections": []
    },
    "kernelspec": {
      "name": "python3",
      "display_name": "Python 3"
    },
    "language_info": {
      "name": "python"
    }
  },
  "cells": [
    {
      "cell_type": "code",
      "execution_count": 40,
      "metadata": {
        "colab": {
          "base_uri": "https://localhost:8080/"
        },
        "id": "pg4YpAzjQLsv",
        "outputId": "1e62264f-e972-499e-d07a-c7b7d86e31e2"
      },
      "outputs": [
        {
          "output_type": "stream",
          "name": "stdout",
          "text": [
            "https://shopee.co.id/api/v4/search/search_items?by=relevancy&limit=60&match_id=1028154&newest=0&order=desc&page_type=collection&scenario=PAGE_COLLECTION_SEARCH&version=2\n"
          ]
        }
      ],
      "source": [
        "import urllib.request, json, timeit, pandas as pd\n",
        "shopee_url = \"https://shopee.co.id/api/v4/search/search_items?by=relevancy&limit=60&match_id=1028154&newest=0&order=desc&page_type=collection&scenario=PAGE_COLLECTION_SEARCH&version=2\"\n",
        "print(shopee_url)\n",
        "with urllib.request.urlopen(shopee_url) as url:\n",
        "  data_shopee = json.loads(url.read().decode())"
      ]
    },
    {
      "cell_type": "code",
      "source": [
        "data_shopee"
      ],
      "metadata": {
        "id": "3gVOXl9SbWK_"
      },
      "execution_count": null,
      "outputs": []
    },
    {
      "cell_type": "code",
      "source": [
        "import pandas as pd"
      ],
      "metadata": {
        "id": "-kCVK8fWcDzq"
      },
      "execution_count": 42,
      "outputs": []
    },
    {
      "cell_type": "code",
      "source": [
        "df = pd.DataFrame.from_dict(data_shopee,orient = 'index').transpose()\n",
        "\n",
        "df"
      ],
      "metadata": {
        "id": "rttm1xHpefxI"
      },
      "execution_count": null,
      "outputs": []
    },
    {
      "cell_type": "code",
      "source": [
        "df['items']\n"
      ],
      "metadata": {
        "colab": {
          "base_uri": "https://localhost:8080/"
        },
        "id": "gYtp0SUPuPJx",
        "outputId": "989b328b-f313-432b-9df0-573a0f91d703"
      },
      "execution_count": 44,
      "outputs": [
        {
          "output_type": "execute_result",
          "data": {
            "text/plain": [
              "0    [{'item_basic': {'itemid': 121456177, 'shopid'...\n",
              "Name: items, dtype: object"
            ]
          },
          "metadata": {},
          "execution_count": 44
        }
      ]
    },
    {
      "cell_type": "code",
      "source": [
        "type(df['items'][0][0])"
      ],
      "metadata": {
        "colab": {
          "base_uri": "https://localhost:8080/"
        },
        "id": "EA8wwN8sva2h",
        "outputId": "6d1c5064-eb14-4ef1-b550-0829612af278"
      },
      "execution_count": 45,
      "outputs": [
        {
          "output_type": "execute_result",
          "data": {
            "text/plain": [
              "dict"
            ]
          },
          "metadata": {},
          "execution_count": 45
        }
      ]
    },
    {
      "cell_type": "code",
      "source": [
        "df['items'][0][0]['item_basic']"
      ],
      "metadata": {
        "id": "uk92PxLJxOvh"
      },
      "execution_count": null,
      "outputs": []
    },
    {
      "cell_type": "code",
      "source": [
        "df['items'][0][0]['item_basic']['name']"
      ],
      "metadata": {
        "colab": {
          "base_uri": "https://localhost:8080/",
          "height": 36
        },
        "id": "nanYI6HXP4u-",
        "outputId": "3060f579-ae14-45c9-cfea-ee88d5fa01b1"
      },
      "execution_count": 47,
      "outputs": [
        {
          "output_type": "execute_result",
          "data": {
            "application/vnd.google.colaboratory.intrinsic+json": {
              "type": "string"
            },
            "text/plain": [
              "'Beng Beng Chocolate Crisp Wafer - Netto 20 bks x 22 gr'"
            ]
          },
          "metadata": {},
          "execution_count": 47
        }
      ]
    },
    {
      "cell_type": "code",
      "source": [
        "df['items'][0][0]['item_basic']['price']/100000"
      ],
      "metadata": {
        "colab": {
          "base_uri": "https://localhost:8080/"
        },
        "id": "EYRX4FcHmuRo",
        "outputId": "086d73c2-64a4-48c8-87c5-9c61d955c790"
      },
      "execution_count": 48,
      "outputs": [
        {
          "output_type": "execute_result",
          "data": {
            "text/plain": [
              "27800.0"
            ]
          },
          "metadata": {},
          "execution_count": 48
        }
      ]
    },
    {
      "cell_type": "code",
      "source": [
        "len(df['items'][0])"
      ],
      "metadata": {
        "colab": {
          "base_uri": "https://localhost:8080/"
        },
        "id": "KTDQPC-hxyn7",
        "outputId": "36389bbf-437d-4115-b6ef-844f783347a5"
      },
      "execution_count": 49,
      "outputs": [
        {
          "output_type": "execute_result",
          "data": {
            "text/plain": [
              "60"
            ]
          },
          "metadata": {},
          "execution_count": 49
        }
      ]
    },
    {
      "cell_type": "code",
      "source": [
        "with open('hasil_scraping.csv', 'w') as sebuah_file:\n",
        "  tulis1 = 'nama_item,price \\n'\n",
        "  sebuah_file.write(tulis1)\n",
        "  for i in range (len(df['items'][0])):\n",
        "    tulis = df['items'][0][i]['item_basic']['name'] + ',' + str(df['items'][0][i]['item_basic']['price']/100000) + '\\n'\n",
        "    sebuah_file.write(tulis)"
      ],
      "metadata": {
        "id": "1doZt3Fsw0gq"
      },
      "execution_count": 52,
      "outputs": []
    }
  ]
}